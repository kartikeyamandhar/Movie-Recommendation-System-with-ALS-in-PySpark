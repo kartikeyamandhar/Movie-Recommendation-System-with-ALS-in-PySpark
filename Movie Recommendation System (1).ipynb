{
 "cells": [
  {
   "cell_type": "code",
   "execution_count": 1,
   "metadata": {},
   "outputs": [],
   "source": [
    "import findspark\n",
    "findspark.init()"
   ]
  },
  {
   "cell_type": "code",
   "execution_count": 2,
   "metadata": {},
   "outputs": [],
   "source": [
    "from pyspark.sql import SparkSession,SQLContext\n",
    "from pyspark.ml.evaluation import RegressionEvaluator\n",
    "from pyspark.ml.recommendation import ALS\n",
    "from pyspark.sql.functions import *\n",
    "import numpy as np\n",
    "from IPython.display import Image\n",
    "from IPython.display import display\n",
    "from pyspark.ml.tuning import CrossValidator, ParamGridBuilder\n",
    "\n"
   ]
  },
  {
   "cell_type": "code",
   "execution_count": 3,
   "metadata": {},
   "outputs": [
    {
     "name": "stderr",
     "output_type": "stream",
     "text": [
      "C:\\spark-3.2.0-bin-hadoop3.2\\python\\pyspark\\sql\\context.py:77: FutureWarning: Deprecated in 3.0.0. Use SparkSession.builder.getOrCreate() instead.\n",
      "  warnings.warn(\n"
     ]
    }
   ],
   "source": [
    "spark = SparkSession.builder.appName(\"Recommendation_System\").getOrCreate()\n",
    "sc=spark.sparkContext\n",
    "sqlContext = SQLContext(sc)"
   ]
  },
  {
   "cell_type": "code",
   "execution_count": 4,
   "metadata": {},
   "outputs": [],
   "source": [
    "ratings_df=spark.read.csv('ratings.csv',header=True,inferSchema=True)\n",
    "movies_df=spark.read.csv('movies.csv',header=True,inferSchema=True)\n",
    "links_df=spark.read.csv('links.csv',header=True,inferSchema=True)"
   ]
  },
  {
   "cell_type": "code",
   "execution_count": 5,
   "metadata": {},
   "outputs": [
    {
     "name": "stdout",
     "output_type": "stream",
     "text": [
      "+------+-------+------+---------+\n",
      "|userId|movieId|rating|timestamp|\n",
      "+------+-------+------+---------+\n",
      "|     1|      1|   4.0|964982703|\n",
      "|     1|      3|   4.0|964981247|\n",
      "|     1|      6|   4.0|964982224|\n",
      "|     1|     47|   5.0|964983815|\n",
      "|     1|     50|   5.0|964982931|\n",
      "+------+-------+------+---------+\n",
      "only showing top 5 rows\n",
      "\n",
      "+-------+--------------------+--------------------+\n",
      "|movieId|               title|              genres|\n",
      "+-------+--------------------+--------------------+\n",
      "|      1|    Toy Story (1995)|Adventure|Animati...|\n",
      "|      2|      Jumanji (1995)|Adventure|Childre...|\n",
      "|      3|Grumpier Old Men ...|      Comedy|Romance|\n",
      "|      4|Waiting to Exhale...|Comedy|Drama|Romance|\n",
      "|      5|Father of the Bri...|              Comedy|\n",
      "+-------+--------------------+--------------------+\n",
      "only showing top 5 rows\n",
      "\n",
      "+-------+------+------+\n",
      "|movieId|imdbId|tmdbId|\n",
      "+-------+------+------+\n",
      "|      1|114709|   862|\n",
      "|      2|113497|  8844|\n",
      "|      3|113228| 15602|\n",
      "|      4|114885| 31357|\n",
      "|      5|113041| 11862|\n",
      "+-------+------+------+\n",
      "only showing top 5 rows\n",
      "\n"
     ]
    }
   ],
   "source": [
    "ratings_df.show(5)\n",
    "movies_df.show(5)\n",
    "links_df.show(5)"
   ]
  },
  {
   "cell_type": "code",
   "execution_count": 6,
   "metadata": {},
   "outputs": [],
   "source": [
    "## Ratings split\n",
    "\n",
    "train,test = ratings_df.randomSplit([0.85,0.15])"
   ]
  },
  {
   "cell_type": "code",
   "execution_count": 7,
   "metadata": {},
   "outputs": [],
   "source": [
    "iterations = 10\n",
    "reg_param = 0.1\n",
    "rank = 4\n",
    "errors=[]\n",
    "err = 0"
   ]
  },
  {
   "cell_type": "markdown",
   "metadata": {},
   "source": [
    "Using for loop to find the model with lowest RMSE"
   ]
  },
  {
   "cell_type": "code",
   "execution_count": 8,
   "metadata": {},
   "outputs": [
    {
     "name": "stdout",
     "output_type": "stream",
     "text": [
      "RMSE = 0.8735744463773722\n",
      "RMSE = 0.8735744463773722\n",
      "RMSE = 0.8735744463773722\n"
     ]
    }
   ],
   "source": [
    "for rank in range(4,7):\n",
    "    als = ALS(maxIter = iterations,regParam = reg_param,rank = 5,userCol = \"userId\",itemCol = \"movieId\",ratingCol=\"rating\")\n",
    "    model = als.fit(train)\n",
    "    predictions = model.transform(test)\n",
    "    new_predictions = predictions.filter(col('prediction')!=np.nan)\n",
    "    eval = RegressionEvaluator(metricName = \"rmse\",labelCol=\"rating\",predictionCol=\"prediction\")\n",
    "    rmse = eval.evaluate(new_predictions)\n",
    "    print(\"RMSE = \"+str(rmse))\n",
    "        "
   ]
  },
  {
   "cell_type": "markdown",
   "metadata": {},
   "source": [
    "Using Cross Validator we can find the best model"
   ]
  },
  {
   "cell_type": "code",
   "execution_count": 9,
   "metadata": {},
   "outputs": [],
   "source": [
    "ls = ALS(maxIter = iterations,regParam = reg_param,rank = rank,userCol = \"userId\",itemCol = \"movieId\",ratingCol=\"rating\")\n",
    "paramGrid = ParamGridBuilder() \\\n",
    "            .addGrid(als.regParam,[0.1,0.01,0.15]) \\\n",
    "            .addGrid(als.rank,[4,5,6]) \\\n",
    "            .build()\n",
    "eval = RegressionEvaluator(metricName = \"rmse\",labelCol=\"rating\",predictionCol=\"prediction\")\n",
    "crossval = CrossValidator(estimator = als,estimatorParamMaps = paramGrid,evaluator=eval,numFolds=5)\n",
    "cvModel = crossval.fit(train)"
   ]
  },
  {
   "cell_type": "code",
   "execution_count": 10,
   "metadata": {},
   "outputs": [
    {
     "name": "stdout",
     "output_type": "stream",
     "text": [
      "+------+-------+------+---------+----------+\n",
      "|userId|movieId|rating|timestamp|prediction|\n",
      "+------+-------+------+---------+----------+\n",
      "|     1|    362|   5.0|964982588| 4.2322702|\n",
      "|     1|    101|   5.0|964980868|   4.32193|\n",
      "|     1|   1208|   4.0|964983250|  4.916703|\n",
      "|     1|    333|   5.0|964981179| 4.2505684|\n",
      "|     1|      1|   4.0|964982703|  4.796311|\n",
      "|     1|    736|   3.0|964982653| 3.6984885|\n",
      "|     1|   1049|   5.0|964982400|  3.483241|\n",
      "|     1|     70|   3.0|964982400|  3.849427|\n",
      "|     1|    592|   4.0|964982271|  4.111782|\n",
      "|     1|    110|   4.0|964982176|  4.837343|\n",
      "+------+-------+------+---------+----------+\n",
      "only showing top 10 rows\n",
      "\n"
     ]
    }
   ],
   "source": [
    "predictions.show(n=10)"
   ]
  },
  {
   "cell_type": "code",
   "execution_count": 11,
   "metadata": {},
   "outputs": [
    {
     "name": "stdout",
     "output_type": "stream",
     "text": [
      "+-------+------+------+----------+----------+--------------------+--------------------+\n",
      "|movieId|userId|rating| timestamp|prediction|               title|              genres|\n",
      "+-------+------+------+----------+----------+--------------------+--------------------+\n",
      "|   1959|   108|   5.0|1042840682| 4.1751685|Out of Africa (1985)|       Drama|Romance|\n",
      "|   1580|    34|   2.5|1162048827| 3.3884459|Men in Black (a.k...|Action|Comedy|Sci-Fi|\n",
      "|   1088|   159|   4.0|1508641161|  3.044857|Dirty Dancing (1987)|Drama|Musical|Rom...|\n",
      "|   1580|   606|   2.5|1171310310| 3.2915862|Men in Black (a.k...|Action|Comedy|Sci-Fi|\n",
      "|   1829|   606|   3.5|1171737562|  2.202891|  Chinese Box (1997)|       Drama|Romance|\n",
      "+-------+------+------+----------+----------+--------------------+--------------------+\n",
      "only showing top 5 rows\n",
      "\n"
     ]
    }
   ],
   "source": [
    "predictions.join(movies_df,\"movieId\").show(5)"
   ]
  },
  {
   "cell_type": "code",
   "execution_count": 12,
   "metadata": {},
   "outputs": [
    {
     "name": "stdout",
     "output_type": "stream",
     "text": [
      "Enter User ID: 24\n"
     ]
    }
   ],
   "source": [
    "user = int(input(\"Enter User ID: \"))"
   ]
  },
  {
   "cell_type": "code",
   "execution_count": 13,
   "metadata": {},
   "outputs": [],
   "source": [
    "for_one = predictions.filter(col(\"userId\")==(user)).join(movies_df,\"movieId\").join(links_df,\"movieId\")"
   ]
  },
  {
   "cell_type": "code",
   "execution_count": 14,
   "metadata": {},
   "outputs": [
    {
     "name": "stdout",
     "output_type": "stream",
     "text": [
      "Interview with the Vampire: The Vampire Chronicles (1994)\n",
      "Mr. & Mrs. Smith (2005)\n"
     ]
    }
   ],
   "source": [
    "import webbrowser\n",
    "link = \"https://www.themoviedb.org/movie/\"\n",
    "for m in for_one.take(2):\n",
    "    URL = link+str(m.tmdbId)\n",
    "    print(m.title)\n",
    "    webbrowser.open(URL)"
   ]
  },
  {
   "cell_type": "markdown",
   "metadata": {},
   "source": [
    "##### Finding 5 recommended movies for a set of users"
   ]
  },
  {
   "cell_type": "code",
   "execution_count": 15,
   "metadata": {},
   "outputs": [],
   "source": [
    "users = [100,200,300,400,500,450,350,250,150,50]  #You can input or take any userId"
   ]
  },
  {
   "cell_type": "code",
   "execution_count": 16,
   "metadata": {},
   "outputs": [],
   "source": [
    "predictions = predictions.na.drop()"
   ]
  },
  {
   "cell_type": "code",
   "execution_count": 17,
   "metadata": {},
   "outputs": [
    {
     "name": "stdout",
     "output_type": "stream",
     "text": [
      "+------+-------+------+----------+----------+\n",
      "|userId|movieId|rating| timestamp|prediction|\n",
      "+------+-------+------+----------+----------+\n",
      "|   108|   1959|   5.0|1042840682| 4.1751685|\n",
      "|    34|   1580|   2.5|1162048827| 3.3884459|\n",
      "|   159|   1088|   4.0|1508641161|  3.044857|\n",
      "|   606|   1580|   2.5|1171310310| 3.2915862|\n",
      "|   606|   1829|   3.5|1171737562|  2.202891|\n",
      "|    91|   1580|   3.5|1112711168| 3.2713466|\n",
      "|    91|   1645|   3.0|1112712216|  3.397581|\n",
      "|   409|   3175|   4.0| 968978236| 3.6668818|\n",
      "|   230|   1580|   3.5|1196304359| 3.0543618|\n",
      "|   233|   1580|   3.0|1529334057| 2.9665904|\n",
      "|   367|   3175|   4.0| 997812532| 3.7701318|\n",
      "|   599|    471|   2.5|1498518822| 2.6938756|\n",
      "|   599|   3175|   3.0|1498522138| 2.8536515|\n",
      "|   599|   6620|   2.5|1498517548|  3.343285|\n",
      "|   111|   1088|   3.0|1516153967| 2.9092774|\n",
      "|   111|  44022|   3.0|1516143982| 3.1531286|\n",
      "|   140|   1580|   3.0|1024051464| 3.5475097|\n",
      "|   177|  44022|   2.5|1435525303| 3.2574139|\n",
      "|   416|   1580|   2.0|1187496482| 1.5892975|\n",
      "|   325|   2366|   4.0|1039395430| 3.8617485|\n",
      "+------+-------+------+----------+----------+\n",
      "only showing top 20 rows\n",
      "\n"
     ]
    }
   ],
   "source": [
    "predictions.show()"
   ]
  },
  {
   "cell_type": "code",
   "execution_count": 18,
   "metadata": {},
   "outputs": [],
   "source": [
    "df2 = predictions.join(movies_df,\"movieId\")"
   ]
  },
  {
   "cell_type": "code",
   "execution_count": 19,
   "metadata": {},
   "outputs": [
    {
     "name": "stdout",
     "output_type": "stream",
     "text": [
      "+-------+------+------+----------+----------+--------------------+--------------------+\n",
      "|movieId|userId|rating| timestamp|prediction|               title|              genres|\n",
      "+-------+------+------+----------+----------+--------------------+--------------------+\n",
      "|   1959|   108|   5.0|1042840682| 4.1751685|Out of Africa (1985)|       Drama|Romance|\n",
      "|   1580|    34|   2.5|1162048827| 3.3884459|Men in Black (a.k...|Action|Comedy|Sci-Fi|\n",
      "|   1088|   159|   4.0|1508641161|  3.044857|Dirty Dancing (1987)|Drama|Musical|Rom...|\n",
      "|   1580|   606|   2.5|1171310310| 3.2915862|Men in Black (a.k...|Action|Comedy|Sci-Fi|\n",
      "|   1829|   606|   3.5|1171737562|  2.202891|  Chinese Box (1997)|       Drama|Romance|\n",
      "|   1580|    91|   3.5|1112711168| 3.2713466|Men in Black (a.k...|Action|Comedy|Sci-Fi|\n",
      "|   1645|    91|   3.0|1112712216|  3.397581|The Devil's Advoc...|Drama|Mystery|Thr...|\n",
      "+-------+------+------+----------+----------+--------------------+--------------------+\n",
      "only showing top 7 rows\n",
      "\n"
     ]
    }
   ],
   "source": [
    "df2.show(7)"
   ]
  },
  {
   "cell_type": "code",
   "execution_count": 20,
   "metadata": {},
   "outputs": [],
   "source": [
    "from pyspark.sql.window import Window\n",
    "df3 = df2.filter(df2.userId.isin(users))\n",
    "df3 = df3.orderBy(\"prediction\",ascending=False)\n",
    "window = Window.partitionBy(df3['userId']).orderBy(df3['prediction'].desc())\n",
    "\n",
    "df3 = df3.withColumn(\"row\",row_number().over(window)).filter(col(\"row\")<=5).drop(\"row\")"
   ]
  },
  {
   "cell_type": "code",
   "execution_count": 21,
   "metadata": {},
   "outputs": [],
   "source": [
    "df4 = df3.groupBy('userId').agg(collect_list('title').alias('predicted_movies'))"
   ]
  },
  {
   "cell_type": "code",
   "execution_count": 22,
   "metadata": {},
   "outputs": [
    {
     "name": "stdout",
     "output_type": "stream",
     "text": [
      "+------+--------------------+\n",
      "|userId|    predicted_movies|\n",
      "+------+--------------------+\n",
      "|    50|[Godfather, The (...|\n",
      "|   100|[Say Anything... ...|\n",
      "|   150|[Leaving Las Vega...|\n",
      "|   200|[Dark Knight, The...|\n",
      "|   250|[Sound of Music, ...|\n",
      "|   300|[City of God (Cid...|\n",
      "|   350|[Star Wars: Episo...|\n",
      "|   400|[Silence of the L...|\n",
      "|   450|[Jaws (1975), Nor...|\n",
      "|   500|[Clockwatchers (1...|\n",
      "+------+--------------------+\n",
      "\n"
     ]
    }
   ],
   "source": [
    "df4.show()"
   ]
  },
  {
   "cell_type": "code",
   "execution_count": null,
   "metadata": {},
   "outputs": [],
   "source": []
  }
 ],
 "metadata": {
  "kernelspec": {
   "display_name": "Python 3",
   "language": "python",
   "name": "python3"
  },
  "language_info": {
   "codemirror_mode": {
    "name": "ipython",
    "version": 3
   },
   "file_extension": ".py",
   "mimetype": "text/x-python",
   "name": "python",
   "nbconvert_exporter": "python",
   "pygments_lexer": "ipython3",
   "version": "3.8.5"
  }
 },
 "nbformat": 4,
 "nbformat_minor": 4
}
